{
 "cells": [
  {
   "cell_type": "code",
   "execution_count": 2,
   "metadata": {},
   "outputs": [],
   "source": [
    "from IPython.core.interactiveshell import InteractiveShell\n",
    "InteractiveShell.ast_node_interactivity = \"all\""
   ]
  },
  {
   "cell_type": "code",
   "execution_count": 3,
   "metadata": {},
   "outputs": [],
   "source": [
    "import pandas as pd\n",
    "import numpy as np\n",
    "import matplotlib.pylab as plt\n",
    "from matplotlib.pylab import rcParams\n",
    "from statsmodels.graphics.tsaplots import plot_acf\n",
    "from statsmodels.tsa.stattools import acf\n",
    "from statsmodels.graphics.tsaplots import plot_pacf\n",
    "from statsmodels.tsa.stattools import pacf\n",
    "rcParams['figure.figsize'] = 15, 6\n",
    "from pandas.plotting import register_matplotlib_converters"
   ]
  },
  {
   "cell_type": "markdown",
   "metadata": {},
   "source": [
    "Hay que tener instalado rpy2 para poder ejecutar la siguientes celdas 2 celdas. La idea de estas dos celdas es configurar todo en Python para poder correr R y Python en las mismas celdas."
   ]
  },
  {
   "cell_type": "code",
   "execution_count": 4,
   "metadata": {},
   "outputs": [
    {
     "name": "stdout",
     "output_type": "stream",
     "text": [
      "3.8.5\n",
      "3.4.2\n"
     ]
    }
   ],
   "source": [
    "from platform import python_version\n",
    "print(python_version())\n",
    "import pandas as pd\n",
    "import rpy2\n",
    "print(rpy2.__version__)"
   ]
  },
  {
   "cell_type": "code",
   "execution_count": 5,
   "metadata": {},
   "outputs": [
    {
     "name": "stdout",
     "output_type": "stream",
     "text": [
      "\u001b[1mrpy2 version:\u001b[0m\n",
      "3.4.2\n",
      "\u001b[1mPython version:\u001b[0m\n",
      "3.8.5 (default, Sep  4 2020, 02:22:02) \n",
      "[Clang 10.0.0 ]\n",
      "\u001b[1mLooking for R's HOME:\u001b[0m\n",
      "    Environment variable R_HOME: /Library/Frameworks/R.framework/Resources\n",
      "    Calling `R RHOME`: None\n",
      "    Environment variable R_LIBS_USER: None\n",
      "    Warning: There is no R in the PATH and no R_HOME defined.\n",
      "\u001b[1mR's additions to LD_LIBRARY_PATH:\u001b[0m\n",
      "\n",
      "\u001b[1mR version:\u001b[0m\n",
      "    In the PATH: None\n",
      "    Loading R library from rpy2: OK\n",
      "\u001b[1mAdditional directories to load R packages from:\u001b[0m\n",
      "None\n",
      "\u001b[1mC extension compilation:\u001b[0m\n",
      "  include:\n",
      "  ['/Library/Frameworks/R.framework/Resources/include']\n",
      "  libraries:\n",
      "  ['pcre2-8', 'lzma', 'bz2', 'z', 'icucore', 'dl', 'm', 'iconv']\n",
      "  library_dirs:\n",
      "  ['/usr/local/lib', '/usr/local/lib']\n",
      "  extra_compile_args:\n",
      "  []\n",
      "  extra_link_args:\n",
      "  ['-F/Library/Frameworks/R.framework/..', '-framework', 'R']\n"
     ]
    }
   ],
   "source": [
    "import os\n",
    "os.environ['R_HOME'] = '/Library/Frameworks/R.framework/Resources'\n",
    "#os.environ['R_HOME'] = '/opt/anaconda3/lib/R'\n",
    "import rpy2.situation\n",
    "for row in rpy2.situation.iter_info():\n",
    "    print(row)\n",
    "    \n",
    "# para obtener esta ruta \"/Library/Frameworks/R.framework/Resources\", debemos ejectuar en r la siguiente instrucción: R.home(component = \"home\")\n",
    "#Yo usaré R que está instaldo en mi equipo y esto me sirve en el sistema operativo MACos con estas version de R y Python.\n"
   ]
  },
  {
   "cell_type": "code",
   "execution_count": null,
   "metadata": {},
   "outputs": [],
   "source": []
  }
 ],
 "metadata": {
  "kernelspec": {
   "display_name": "Python 3",
   "language": "python",
   "name": "python3"
  },
  "language_info": {
   "codemirror_mode": {
    "name": "ipython",
    "version": 3
   },
   "file_extension": ".py",
   "mimetype": "text/x-python",
   "name": "python",
   "nbconvert_exporter": "python",
   "pygments_lexer": "ipython3",
   "version": "3.8.5"
  }
 },
 "nbformat": 4,
 "nbformat_minor": 4
}
